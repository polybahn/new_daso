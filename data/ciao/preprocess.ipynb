{
  "cells": [
    {
      "cell_type": "code",
      "execution_count": 1,
      "metadata": {
        "pycharm": {
          "is_executing": false
        }
      },
      "outputs": [],
      "source": [
        "import scipy.io\n",
        "mat \u003d scipy.io.loadmat(\u0027rating.mat\u0027)"
      ]
    },
    {
      "cell_type": "code",
      "execution_count": 7,
      "metadata": {
        "pycharm": {}
      },
      "outputs": [
        {
          "data": {
            "text/plain": [
              "array([[     1,      1,      1,      3,      1],\n",
              "       [     1,      2,      1,      4,      1],\n",
              "       [     1,      3,      2,      4,      1],\n",
              "       ...,\n",
              "       [  7375,  72772,     24,      4,      2],\n",
              "       [  7375,  74985,     24,      5,      1],\n",
              "       [  7375, 101247,     24,      1,      4]], dtype\u003dint32)"
            ]
          },
          "execution_count": 7,
          "metadata": {},
          "output_type": "execute_result"
        }
      ],
      "source": [
        "mat[\u0027rating\u0027]"
      ]
    },
    {
      "cell_type": "code",
      "execution_count": 14,
      "metadata": {
        "pycharm": {}
      },
      "outputs": [],
      "source": [
        "with open(\u0027rating.csv\u0027, \u0027w\u0027) as rf:\n",
        "    for l in mat[\u0027rating\u0027]:\n",
        "        rf.write(\u0027, \u0027.join([str(l[0]), str(l[1]), str(1)]) + \u0027\\n\u0027)\n",
        "        \n",
        "with open(\u0027categories_id.csv\u0027, \u0027w\u0027) as cf:\n",
        "    for l in mat[\u0027rating\u0027]:\n",
        "        cf.write(\u0027, \u0027.join([str(l[1]), str(l[2])]) + \u0027\\n\u0027)\n",
        "\n",
        "cats \u003d {1 :\"DVDs\",\n",
        "2 :\"Books\",\n",
        "3 :\"Beauty\",\n",
        "4:\" Music\",\n",
        "5 :\"Travel\",\n",
        "6 :\"Food \u0026 Drink\",\n",
        "7 :\"Sports \u0026 Outdoors\",\n",
        "8 :\"Entertainment\",\n",
        "9:\" Health\",\n",
        "10:\" Ciao Caf?\",\n",
        "11:\" Shopping\",\n",
        "12:\" Internet\",\n",
        "13 :\"Software\",\n",
        "14 :\"House \u0026 Garden\",\n",
        "15 :\"Education \u0026 Careers\",\n",
        "16 :\"Cars\",\n",
        "17:\" Household Appliances\",\n",
        "18:\" Telecommunications\",\n",
        "19 :\"Electronics\",\n",
        "20 :\"Musical Instruments \u0026 Equipment\",\n",
        "21:\" Computers\",\n",
        "22:\" Cameras\",\n",
        "23 :\"Family\",\n",
        "24:\" Games\",\n",
        "25:\" Fashion\",\n",
        "26:\" Adult Products\",\n",
        "27 :\"Office Equipment\",\n",
        "28 :\"Finance\"}\n",
        "\n",
        "with open(\u0027categories_name.csv\u0027, \u0027w\u0027) as cf:\n",
        "    for l in mat[\u0027rating\u0027]:\n",
        "        try:\n",
        "            cf.write(\u0027, \u0027.join([str(l[1]), cats[l[2]]]) + \u0027\\n\u0027)\n",
        "        except KeyError:\n",
        "            print(l[2])\n",
        "            continue"
      ]
    },
    {
      "cell_type": "code",
      "execution_count": 2,
      "metadata": {
        "pycharm": {
          "is_executing": false
        }
      },
      "outputs": [],
      "source": [
        "net \u003d scipy.io.loadmat(\u0027trustnetwork.mat\u0027)"
      ]
    },
    {
      "cell_type": "code",
      "execution_count": 3,
      "metadata": {
        "pycharm": {
          "is_executing": false
        }
      },
      "outputs": [
        {
          "data": {
            "text/plain": "array([[   1,    2],\n       [   1,    3],\n       [   1,    4],\n       ...,\n       [7374, 7373],\n       [7374, 7369],\n       [7375, 5285]], dtype\u003duint16)"
          },
          "metadata": {},
          "output_type": "execute_result",
          "execution_count": 3
        }
      ],
      "source": "net[\u0027trustnetwork\u0027]"
    },
    {
      "cell_type": "code",
      "execution_count": 5,
      "metadata": {
        "pycharm": {
          "is_executing": false
        }
      },
      "outputs": [],
      "source": "with open(\u0027social.csv\u0027, \u0027w\u0027) as cf:\n    for l in net[\u0027trustnetwork\u0027]:\n        cf.write(\u0027, \u0027.join([str(l[0]), str(l[1])]) + \u0027\\n\u0027)\n        "
    },
    {
      "cell_type": "code",
      "execution_count": null,
      "outputs": [],
      "source": "\n",
      "metadata": {
        "pycharm": {
          "metadata": false,
          "name": "#%%\n"
        }
      }
    }
  ],
  "metadata": {
    "kernelspec": {
      "display_name": "Python 3",
      "language": "python",
      "name": "python3"
    },
    "language_info": {
      "codemirror_mode": {
        "name": "ipython",
        "version": 3
      },
      "file_extension": ".py",
      "mimetype": "text/x-python",
      "name": "python",
      "nbconvert_exporter": "python",
      "pygments_lexer": "ipython3",
      "version": "3.7.3"
    }
  },
  "nbformat": 4,
  "nbformat_minor": 2
}